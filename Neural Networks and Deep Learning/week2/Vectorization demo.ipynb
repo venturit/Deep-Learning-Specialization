{
 "cells": [
  {
   "cell_type": "code",
   "execution_count": 2,
   "metadata": {},
   "outputs": [
    {
     "name": "stdout",
     "output_type": "stream",
     "text": [
      "[1 2 3 4]\n"
     ]
    }
   ],
   "source": [
    "import numpy as np\n",
    "\n",
    "a= np.array([1,2,3,4])\n",
    "print(a)"
   ]
  },
  {
   "cell_type": "code",
   "execution_count": 14,
   "metadata": {},
   "outputs": [
    {
     "name": "stdout",
     "output_type": "stream",
     "text": [
      "Vectorization product time: 0.5717277526855469ms\n",
      "250203.5994719294\n",
      "Non-Vectorization product time: 713.9770984649658ms\n",
      "250203.59947193545\n"
     ]
    }
   ],
   "source": [
    "import time\n",
    "\n",
    "a = np.random.rand(1000000)\n",
    "b = np.random.rand(1000000)\n",
    "\n",
    "tik = time.time()\n",
    "c = np.dot(a,b)\n",
    "tok = time.time()\n",
    "print(\"Vectorization product time: \" + str(1000*(tok-tik)) + \"ms\" )\n",
    "print(c)\n",
    "\n",
    "c=0\n",
    "tik = time.time()\n",
    "for i in range(1000000):\n",
    "    c+= a[i] * b[i] \n",
    "tok = time.time()\n",
    "    \n",
    "print(\"Non-Vectorization product time: \" + str(1000*(tok-tik)) + \"ms\" )\n",
    "print(c)\n"
   ]
  },
  {
   "cell_type": "code",
   "execution_count": 5,
   "metadata": {},
   "outputs": [
    {
     "name": "stdout",
     "output_type": "stream",
     "text": [
      "[[-1.12971283  0.11814624  0.56305904]\n",
      " [ 0.53136634  0.07649368 -0.48930336]\n",
      " [ 0.3684947  -0.43926654 -1.73254056]]\n",
      "[[-2.02905666]\n",
      " [-0.08362677]\n",
      " [ 0.76696491]]\n",
      "[[ 2.29225135 -0.23972542 -1.14247869]\n",
      " [-0.04443645 -0.00639692  0.04091886]\n",
      " [ 0.2826225  -0.33690202 -1.32879781]]\n"
     ]
    }
   ],
   "source": [
    "a = np.random.randn(3, 3)\n",
    "b = np.random.randn(3, 1)\n",
    "c = a*b\n",
    "print(a)\n",
    "print(b)\n",
    "print(c)"
   ]
  },
  {
   "cell_type": "code",
   "execution_count": null,
   "metadata": {},
   "outputs": [],
   "source": []
  }
 ],
 "metadata": {
  "kernelspec": {
   "display_name": "p36_avidhrt",
   "language": "python",
   "name": "p36_avidhrt"
  },
  "language_info": {
   "codemirror_mode": {
    "name": "ipython",
    "version": 3
   },
   "file_extension": ".py",
   "mimetype": "text/x-python",
   "name": "python",
   "nbconvert_exporter": "python",
   "pygments_lexer": "ipython3",
   "version": "3.6.7"
  }
 },
 "nbformat": 4,
 "nbformat_minor": 2
}
