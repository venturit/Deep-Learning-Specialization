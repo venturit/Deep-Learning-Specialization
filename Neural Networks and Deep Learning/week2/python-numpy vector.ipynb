{
 "cells": [
  {
   "cell_type": "code",
   "execution_count": 7,
   "metadata": {},
   "outputs": [
    {
     "name": "stdout",
     "output_type": "stream",
     "text": [
      "[-1.52109095 -0.59157376 -1.86006227 -0.18588539  0.5693023 ]\n",
      "(5,)\n"
     ]
    }
   ],
   "source": [
    "import numpy as np\n",
    "\n",
    "a = np.random.randn(5) #dont use this way\n",
    "print(a)\n",
    "print(a.shape)\n"
   ]
  },
  {
   "cell_type": "code",
   "execution_count": 9,
   "metadata": {},
   "outputs": [
    {
     "name": "stdout",
     "output_type": "stream",
     "text": [
      "[2.31371769 0.34995952 3.45983166 0.03455338 0.32410511]\n"
     ]
    }
   ],
   "source": [
    "print(a*a.T)"
   ]
  },
  {
   "cell_type": "code",
   "execution_count": 3,
   "metadata": {},
   "outputs": [
    {
     "name": "stdout",
     "output_type": "stream",
     "text": [
      "[[-0.75460831]\n",
      " [-0.57143936]\n",
      " [ 0.71974502]\n",
      " [ 0.48342555]\n",
      " [ 0.4103421 ]]\n"
     ]
    }
   ],
   "source": [
    "a = np.random.randn(5,1) # This this wa#\n",
    "print(a)"
   ]
  },
  {
   "cell_type": "code",
   "execution_count": 4,
   "metadata": {},
   "outputs": [
    {
     "name": "stdout",
     "output_type": "stream",
     "text": [
      "[[-0.75460831 -0.57143936  0.71974502  0.48342555  0.4103421 ]]\n"
     ]
    }
   ],
   "source": [
    "print(a.T)"
   ]
  },
  {
   "cell_type": "code",
   "execution_count": 5,
   "metadata": {},
   "outputs": [
    {
     "name": "stdout",
     "output_type": "stream",
     "text": [
      "[[ 0.5694337   0.43121289 -0.54312557 -0.36479693 -0.30964755]\n",
      " [ 0.43121289  0.32654294 -0.41129063 -0.27624839 -0.23448562]\n",
      " [-0.54312557 -0.41129063  0.5180329   0.34794313  0.29534168]\n",
      " [-0.36479693 -0.27624839  0.34794313  0.23370026  0.19836985]\n",
      " [-0.30964755 -0.23448562  0.29534168  0.19836985  0.16838064]]\n"
     ]
    }
   ],
   "source": [
    "print(a*a.T)"
   ]
  }
 ],
 "metadata": {
  "kernelspec": {
   "display_name": "p36_avidhrt",
   "language": "python",
   "name": "p36_avidhrt"
  },
  "language_info": {
   "codemirror_mode": {
    "name": "ipython",
    "version": 3
   },
   "file_extension": ".py",
   "mimetype": "text/x-python",
   "name": "python",
   "nbconvert_exporter": "python",
   "pygments_lexer": "ipython3",
   "version": "3.6.7"
  }
 },
 "nbformat": 4,
 "nbformat_minor": 2
}
